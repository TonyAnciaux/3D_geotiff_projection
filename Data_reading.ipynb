{
 "cells": [
  {
   "cell_type": "markdown",
   "id": "848a2e8e",
   "metadata": {},
   "source": [
    "# Data Exploring"
   ]
  },
  {
   "cell_type": "markdown",
   "id": "18d95607",
   "metadata": {},
   "source": [
    "---"
   ]
  },
  {
   "cell_type": "code",
   "execution_count": 181,
   "id": "5a53040e",
   "metadata": {},
   "outputs": [],
   "source": [
    "import geopy\n",
    "from geopy.geocoders import Nominatim\n",
    "import geopandas as gpd\n",
    "import shapefile\n",
    "import rasterio\n",
    "import rasterio.features\n",
    "import rasterio.warp\n",
    "from arcgis.gis import GIS"
   ]
  },
  {
   "cell_type": "markdown",
   "id": "7ed5ec3e",
   "metadata": {},
   "source": [
    "---"
   ]
  },
  {
   "cell_type": "markdown",
   "id": "5ba56051",
   "metadata": {},
   "source": [
    "## PyShp"
   ]
  },
  {
   "cell_type": "markdown",
   "id": "f83e8de2",
   "metadata": {},
   "source": [
    "- NULL = 0\n",
    "- POINT = 1\n",
    "- POLYLINE = 3\n",
    "- POLYGON = 5\n",
    "- MULTIPOINT = 8\n",
    "- POINTZ = 11\n",
    "- POLYLINEZ = 13\n",
    "- POLYGONZ = 15\n",
    "- MULTIPOINTZ = 18\n",
    "- POINTM = 21\n",
    "- POLYLINEM = 23\n",
    "- POLYGONM = 25\n",
    "- MULTIPOINTM = 28\n",
    "- MULTIPATCH = 31"
   ]
  },
  {
   "cell_type": "code",
   "execution_count": 7,
   "id": "e320dc24",
   "metadata": {
    "scrolled": true
   },
   "outputs": [],
   "source": [
    "sf = shapefile.Reader(\"./Data/DHMVIIDSMRAS1m_k01/DHMVII_vdc_k01/DHMVII_vdc_k01\")"
   ]
  },
  {
   "cell_type": "code",
   "execution_count": 53,
   "id": "cf059868",
   "metadata": {},
   "outputs": [],
   "source": [
    "sf2 = shapefile.Reader(\"./Data/DHMVIIDSMRAS1m_k02/DHMVII_vdc_k02/DHMVII_vdc_k02\")"
   ]
  },
  {
   "cell_type": "code",
   "execution_count": 89,
   "id": "54f22df9",
   "metadata": {},
   "outputs": [],
   "source": [
    "sf3 = shapefile.Reader(\"./Data/DHMVIIDSMRAS1m_k03/DHMVII_vdc_k03/DHMVII_vdc_k03\")"
   ]
  },
  {
   "cell_type": "code",
   "execution_count": 8,
   "id": "42dc7cfb",
   "metadata": {
    "scrolled": true
   },
   "outputs": [
    {
     "data": {
      "text/plain": [
       "3"
      ]
     },
     "execution_count": 8,
     "metadata": {},
     "output_type": "execute_result"
    }
   ],
   "source": [
    "len(sf)"
   ]
  },
  {
   "cell_type": "code",
   "execution_count": 54,
   "id": "c4a32fb2",
   "metadata": {},
   "outputs": [
    {
     "data": {
      "text/plain": [
       "7"
      ]
     },
     "execution_count": 54,
     "metadata": {},
     "output_type": "execute_result"
    }
   ],
   "source": [
    "len(sf2)"
   ]
  },
  {
   "cell_type": "code",
   "execution_count": 90,
   "id": "d271f271",
   "metadata": {},
   "outputs": [
    {
     "data": {
      "text/plain": [
       "5"
      ]
     },
     "execution_count": 90,
     "metadata": {},
     "output_type": "execute_result"
    }
   ],
   "source": [
    "len(sf3)"
   ]
  },
  {
   "cell_type": "code",
   "execution_count": 9,
   "id": "49950889",
   "metadata": {
    "scrolled": false
   },
   "outputs": [
    {
     "name": "stdout",
     "output_type": "stream",
     "text": [
      "shapefile Reader\n",
      "    3 shapes (type 'POLYGONZ')\n",
      "    3 records (4 fields)\n"
     ]
    }
   ],
   "source": [
    "print(sf)"
   ]
  },
  {
   "cell_type": "code",
   "execution_count": 55,
   "id": "d2ff780b",
   "metadata": {
    "scrolled": false
   },
   "outputs": [
    {
     "name": "stdout",
     "output_type": "stream",
     "text": [
      "shapefile Reader\n",
      "    7 shapes (type 'POLYGON')\n",
      "    7 records (4 fields)\n"
     ]
    }
   ],
   "source": [
    "print(sf2)"
   ]
  },
  {
   "cell_type": "code",
   "execution_count": 91,
   "id": "0b77c784",
   "metadata": {},
   "outputs": [
    {
     "name": "stdout",
     "output_type": "stream",
     "text": [
      "shapefile Reader\n",
      "    5 shapes (type 'POLYGONZ')\n",
      "    5 records (4 fields)\n"
     ]
    }
   ],
   "source": [
    "print(sf3)"
   ]
  },
  {
   "cell_type": "code",
   "execution_count": 10,
   "id": "7b64f308",
   "metadata": {
    "scrolled": true
   },
   "outputs": [
    {
     "data": {
      "text/plain": [
       "[144900.0, 237758.6700000018, 162100.0300195366, 247224.38999511302]"
      ]
     },
     "execution_count": 10,
     "metadata": {},
     "output_type": "execute_result"
    }
   ],
   "source": [
    "# the lower left (x,y) coordinate and upper right corner \n",
    "\n",
    "sf.bbox"
   ]
  },
  {
   "cell_type": "code",
   "execution_count": 128,
   "id": "bb92956b",
   "metadata": {
    "scrolled": true
   },
   "outputs": [
    {
     "data": {
      "text/plain": [
       "shapefile._Array"
      ]
     },
     "execution_count": 128,
     "metadata": {},
     "output_type": "execute_result"
    }
   ],
   "source": [
    "type(sf.bbox)"
   ]
  },
  {
   "cell_type": "code",
   "execution_count": 56,
   "id": "d25aa7dc",
   "metadata": {
    "scrolled": false
   },
   "outputs": [
    {
     "data": {
      "text/plain": [
       "[162000.0001220703, 238000.0001220703, 194000.0001220703, 250000.0001220703]"
      ]
     },
     "execution_count": 56,
     "metadata": {},
     "output_type": "execute_result"
    }
   ],
   "source": [
    "sf2.bbox"
   ]
  },
  {
   "cell_type": "code",
   "execution_count": 92,
   "id": "a5d93454",
   "metadata": {},
   "outputs": [
    {
     "data": {
      "text/plain": [
       "[193999.9999999993, 238000.00000000477, 206000.00000000017, 248000.00000000015]"
      ]
     },
     "execution_count": 92,
     "metadata": {},
     "output_type": "execute_result"
    }
   ],
   "source": [
    "sf3.bbox"
   ]
  },
  {
   "cell_type": "code",
   "execution_count": 41,
   "id": "97c9c169",
   "metadata": {},
   "outputs": [],
   "source": [
    "xmin = sf.bbox[0]\n",
    "ymin = sf.bbox[1]\n",
    "xmax = sf.bbox[2]\n",
    "ymax = sf.bbox[3]"
   ]
  },
  {
   "cell_type": "code",
   "execution_count": 13,
   "id": "abd21642",
   "metadata": {},
   "outputs": [],
   "source": [
    "shapes = sf.shape()"
   ]
  },
  {
   "cell_type": "code",
   "execution_count": 129,
   "id": "77758e4a",
   "metadata": {},
   "outputs": [
    {
     "data": {
      "text/plain": [
       "shapefile.Shape"
      ]
     },
     "execution_count": 129,
     "metadata": {},
     "output_type": "execute_result"
    }
   ],
   "source": [
    "type(shapes)"
   ]
  },
  {
   "cell_type": "code",
   "execution_count": 57,
   "id": "a5e0fca3",
   "metadata": {},
   "outputs": [],
   "source": [
    "shapes2 = sf2.shape()"
   ]
  },
  {
   "cell_type": "code",
   "execution_count": 94,
   "id": "2f4fa301",
   "metadata": {},
   "outputs": [],
   "source": [
    "shapes3 = sf3.shape()"
   ]
  },
  {
   "cell_type": "code",
   "execution_count": 16,
   "id": "d05a70ae",
   "metadata": {
    "scrolled": true
   },
   "outputs": [
    {
     "data": {
      "text/plain": [
       "0"
      ]
     },
     "execution_count": 16,
     "metadata": {},
     "output_type": "execute_result"
    }
   ],
   "source": [
    "# The shape's index position in the original shapefile \n",
    "\n",
    "shapes.oid"
   ]
  },
  {
   "cell_type": "code",
   "execution_count": 95,
   "id": "3359b078",
   "metadata": {},
   "outputs": [
    {
     "data": {
      "text/plain": [
       "15"
      ]
     },
     "execution_count": 95,
     "metadata": {},
     "output_type": "execute_result"
    }
   ],
   "source": [
    "shapes3.shapeType"
   ]
  },
  {
   "cell_type": "code",
   "execution_count": 93,
   "id": "a9c2a00e",
   "metadata": {
    "scrolled": false
   },
   "outputs": [
    {
     "data": {
      "text/plain": [
       "5"
      ]
     },
     "execution_count": 93,
     "metadata": {},
     "output_type": "execute_result"
    }
   ],
   "source": [
    "shapes2.shapeType"
   ]
  },
  {
   "cell_type": "code",
   "execution_count": 18,
   "id": "54c282f9",
   "metadata": {
    "scrolled": true
   },
   "outputs": [
    {
     "data": {
      "text/plain": [
       "15"
      ]
     },
     "execution_count": 18,
     "metadata": {},
     "output_type": "execute_result"
    }
   ],
   "source": [
    "shapes.shapeType"
   ]
  },
  {
   "cell_type": "code",
   "execution_count": 19,
   "id": "32c31395",
   "metadata": {},
   "outputs": [
    {
     "data": {
      "text/plain": [
       "[0, 3344]"
      ]
     },
     "execution_count": 19,
     "metadata": {},
     "output_type": "execute_result"
    }
   ],
   "source": [
    "# If the shape record has multiple parts this attribute contains the index of the first point of each part.\n",
    "# If there is only one part then a list containing 0 is returned \n",
    "\n",
    "shapes.parts"
   ]
  },
  {
   "cell_type": "code",
   "execution_count": 59,
   "id": "d5a25064",
   "metadata": {
    "scrolled": true
   },
   "outputs": [
    {
     "data": {
      "text/plain": [
       "[0, 1288, 1609]"
      ]
     },
     "execution_count": 59,
     "metadata": {},
     "output_type": "execute_result"
    }
   ],
   "source": [
    "shapes2.parts"
   ]
  },
  {
   "cell_type": "code",
   "execution_count": 96,
   "id": "a2919284",
   "metadata": {},
   "outputs": [
    {
     "data": {
      "text/plain": [
       "[0]"
      ]
     },
     "execution_count": 96,
     "metadata": {},
     "output_type": "execute_result"
    }
   ],
   "source": [
    "shapes3.parts"
   ]
  },
  {
   "cell_type": "code",
   "execution_count": 50,
   "id": "d73b508b",
   "metadata": {
    "scrolled": true
   },
   "outputs": [
    {
     "data": {
      "text/plain": [
       "(162100.0300195366, 246282.12998290733)"
      ]
     },
     "execution_count": 50,
     "metadata": {},
     "output_type": "execute_result"
    }
   ],
   "source": [
    "# contains a list of tuples containing an (x,y) coordinate for each point in the shape \n",
    "\n",
    "max(shapes.points)"
   ]
  },
  {
   "cell_type": "code",
   "execution_count": 63,
   "id": "64661a90",
   "metadata": {
    "scrolled": true
   },
   "outputs": [
    {
     "data": {
      "text/plain": [
       "(162000.0001220703, 245951.89288330078)"
      ]
     },
     "execution_count": 63,
     "metadata": {},
     "output_type": "execute_result"
    }
   ],
   "source": [
    "min(shapes2.points)"
   ]
  },
  {
   "cell_type": "code",
   "execution_count": 23,
   "id": "2d4b0a3c",
   "metadata": {
    "scrolled": false
   },
   "outputs": [
    {
     "data": {
      "text/plain": [
       "6268"
      ]
     },
     "execution_count": 23,
     "metadata": {},
     "output_type": "execute_result"
    }
   ],
   "source": [
    "len(shapes.points)"
   ]
  },
  {
   "cell_type": "code",
   "execution_count": 60,
   "id": "e1766c5d",
   "metadata": {},
   "outputs": [
    {
     "data": {
      "text/plain": [
       "1886"
      ]
     },
     "execution_count": 60,
     "metadata": {},
     "output_type": "execute_result"
    }
   ],
   "source": [
    "len(shapes2.points)"
   ]
  },
  {
   "cell_type": "code",
   "execution_count": 97,
   "id": "e941a47d",
   "metadata": {},
   "outputs": [
    {
     "data": {
      "text/plain": [
       "353"
      ]
     },
     "execution_count": 97,
     "metadata": {},
     "output_type": "execute_result"
    }
   ],
   "source": [
    "len(shapes3.points)"
   ]
  },
  {
   "cell_type": "code",
   "execution_count": 30,
   "id": "7247627a",
   "metadata": {},
   "outputs": [],
   "source": [
    "fields = sf.fields"
   ]
  },
  {
   "cell_type": "code",
   "execution_count": 61,
   "id": "3e60bde3",
   "metadata": {},
   "outputs": [],
   "source": [
    "fields2 = sf2.fields"
   ]
  },
  {
   "cell_type": "code",
   "execution_count": 98,
   "id": "ae930f31",
   "metadata": {},
   "outputs": [],
   "source": [
    "fields3 = sf3.fields"
   ]
  },
  {
   "cell_type": "code",
   "execution_count": 33,
   "id": "986bfff7",
   "metadata": {
    "scrolled": true
   },
   "outputs": [
    {
     "data": {
      "text/plain": [
       "[('DeletionFlag', 'C', 1, 0),\n",
       " ['Id', 'N', 6, 0],\n",
       " ['OpnDatum1', 'D', 8, 0],\n",
       " ['OpnDatum2', 'D', 8, 0]]"
      ]
     },
     "execution_count": 33,
     "metadata": {},
     "output_type": "execute_result"
    }
   ],
   "source": [
    "fields"
   ]
  },
  {
   "cell_type": "code",
   "execution_count": 62,
   "id": "02b69e38",
   "metadata": {
    "scrolled": true
   },
   "outputs": [
    {
     "data": {
      "text/plain": [
       "[('DeletionFlag', 'C', 1, 0),\n",
       " ['Date', 'C', 254, 0],\n",
       " ['OpnDatum1', 'D', 8, 0],\n",
       " ['OpnDatum2', 'D', 8, 0]]"
      ]
     },
     "execution_count": 62,
     "metadata": {},
     "output_type": "execute_result"
    }
   ],
   "source": [
    "fields2"
   ]
  },
  {
   "cell_type": "code",
   "execution_count": 99,
   "id": "8d6367f4",
   "metadata": {},
   "outputs": [
    {
     "data": {
      "text/plain": [
       "[('DeletionFlag', 'C', 1, 0),\n",
       " ['Date', 'C', 254, 0],\n",
       " ['OpnDatum1', 'D', 8, 0],\n",
       " ['OpnDatum2', 'D', 8, 0]]"
      ]
     },
     "execution_count": 99,
     "metadata": {},
     "output_type": "execute_result"
    }
   ],
   "source": [
    "fields3"
   ]
  },
  {
   "cell_type": "code",
   "execution_count": 37,
   "id": "0e5df3f9",
   "metadata": {},
   "outputs": [],
   "source": [
    "records = sf.records()"
   ]
  },
  {
   "cell_type": "code",
   "execution_count": 69,
   "id": "572a4e96",
   "metadata": {},
   "outputs": [],
   "source": [
    "records2 = sf2.records()"
   ]
  },
  {
   "cell_type": "code",
   "execution_count": 100,
   "id": "6c1705bc",
   "metadata": {},
   "outputs": [],
   "source": [
    "records3 = sf3.records()"
   ]
  },
  {
   "cell_type": "code",
   "execution_count": 38,
   "id": "bf3560e8",
   "metadata": {
    "scrolled": true
   },
   "outputs": [
    {
     "data": {
      "text/plain": [
       "3"
      ]
     },
     "execution_count": 38,
     "metadata": {},
     "output_type": "execute_result"
    }
   ],
   "source": [
    "len(records)"
   ]
  },
  {
   "cell_type": "code",
   "execution_count": 51,
   "id": "3df033bf",
   "metadata": {
    "scrolled": true
   },
   "outputs": [
    {
     "data": {
      "text/plain": [
       "[Record #0: [0, datetime.date(2013, 2, 20), None],\n",
       " Record #1: [0, datetime.date(2013, 4, 1), None],\n",
       " Record #2: [0, datetime.date(2013, 2, 20), datetime.date(2013, 4, 1)]]"
      ]
     },
     "execution_count": 51,
     "metadata": {},
     "output_type": "execute_result"
    }
   ],
   "source": [
    "records"
   ]
  },
  {
   "cell_type": "code",
   "execution_count": 70,
   "id": "193d1987",
   "metadata": {},
   "outputs": [
    {
     "data": {
      "text/plain": [
       "[Record #0: ['20140129', datetime.date(2014, 1, 29), None],\n",
       " Record #1: ['20140130', datetime.date(2014, 1, 29), datetime.date(2014, 1, 30)],\n",
       " Record #2: ['20140130', datetime.date(2014, 1, 30), None],\n",
       " Record #3: ['20140131', datetime.date(2014, 1, 30), datetime.date(2014, 1, 31)],\n",
       " Record #4: ['20140131', datetime.date(2014, 1, 31), None],\n",
       " Record #5: ['20140202', datetime.date(2014, 1, 31), datetime.date(2014, 2, 2)],\n",
       " Record #6: ['20140202', datetime.date(2014, 2, 2), None]]"
      ]
     },
     "execution_count": 70,
     "metadata": {},
     "output_type": "execute_result"
    }
   ],
   "source": [
    "records2"
   ]
  },
  {
   "cell_type": "code",
   "execution_count": 102,
   "id": "f1e8130d",
   "metadata": {},
   "outputs": [
    {
     "data": {
      "text/plain": [
       "[Record #0: ['20141121', datetime.date(2014, 11, 21), None],\n",
       " Record #1: ['20141124', datetime.date(2014, 11, 24), None],\n",
       " Record #2: ['20141125', datetime.date(2014, 11, 25), None],\n",
       " Record #3: ['20141121', datetime.date(2014, 11, 21), datetime.date(2014, 11, 24)],\n",
       " Record #4: ['20141125', datetime.date(2014, 11, 24), datetime.date(2015, 11, 25)]]"
      ]
     },
     "execution_count": 102,
     "metadata": {},
     "output_type": "execute_result"
    }
   ],
   "source": [
    "records3"
   ]
  },
  {
   "cell_type": "code",
   "execution_count": 64,
   "id": "c30a4e38",
   "metadata": {},
   "outputs": [],
   "source": [
    "shapeRecs = sf.shapeRecords()"
   ]
  },
  {
   "cell_type": "code",
   "execution_count": 65,
   "id": "ec9b1d49",
   "metadata": {},
   "outputs": [],
   "source": [
    "shapeRecs2 = sf2.shapeRecords()"
   ]
  },
  {
   "cell_type": "code",
   "execution_count": 68,
   "id": "6ccc88d6",
   "metadata": {
    "scrolled": true
   },
   "outputs": [
    {
     "name": "stdout",
     "output_type": "stream",
     "text": [
      "ShapeRecords: [<shapefile.ShapeRecord object at 0x7f88c4758b20>, <shapefile.ShapeRecord object at 0x7f88c962dee0>, <shapefile.ShapeRecord object at 0x7f88c962dd60>]\n"
     ]
    }
   ],
   "source": [
    "print(shapeRecs)"
   ]
  },
  {
   "cell_type": "markdown",
   "id": "94ec0da1",
   "metadata": {},
   "source": [
    "---"
   ]
  },
  {
   "cell_type": "markdown",
   "id": "9d6ada5f",
   "metadata": {},
   "source": [
    "## Rasterio"
   ]
  },
  {
   "cell_type": "code",
   "execution_count": 111,
   "id": "41af737b",
   "metadata": {},
   "outputs": [],
   "source": [
    "dataset = rasterio.open(\"./Data/DHMVIIDSMRAS1m_k01/GeoTIFF/DHMVIIDSMRAS1m_k01.tif\")"
   ]
  },
  {
   "cell_type": "code",
   "execution_count": 174,
   "id": "476fa47a",
   "metadata": {},
   "outputs": [],
   "source": [
    "dataset2 = rasterio.open(\"./Data/DHMVIIDSMRAS1m_k02/GeoTIFF/DHMVIIDSMRAS1m_k02.tif\")"
   ]
  },
  {
   "cell_type": "code",
   "execution_count": 110,
   "id": "5d929244",
   "metadata": {},
   "outputs": [],
   "source": [
    "#with rasterio.open(\n",
    "#    \"./Data/DHMVIIDSMRAS1m_k01/GeoTIFF/DHMVIIDSMRAS1m_k01.tif\"\n",
    "#) as dataset:\n",
    "#    mask = dataset.dataset_mask()\n",
    "#    for geom, val in rasterio.features.shapes(mask, transform=dataset.transform):\n",
    "#        geom = rasterio.warp.transform_geom(dataset.crs, \"EPSG:4326\", geom, precision=6)\n",
    "#        print(geom)"
   ]
  },
  {
   "cell_type": "code",
   "execution_count": 112,
   "id": "e9fe24c6",
   "metadata": {
    "scrolled": true
   },
   "outputs": [
    {
     "data": {
      "text/plain": [
       "'./Data/DHMVIIDSMRAS1m_k01/GeoTIFF/DHMVIIDSMRAS1m_k01.tif'"
      ]
     },
     "execution_count": 112,
     "metadata": {},
     "output_type": "execute_result"
    }
   ],
   "source": [
    "dataset.name"
   ]
  },
  {
   "cell_type": "code",
   "execution_count": 175,
   "id": "3185786b",
   "metadata": {},
   "outputs": [
    {
     "data": {
      "text/plain": [
       "'./Data/DHMVIIDSMRAS1m_k02/GeoTIFF/DHMVIIDSMRAS1m_k02.tif'"
      ]
     },
     "execution_count": 175,
     "metadata": {},
     "output_type": "execute_result"
    }
   ],
   "source": [
    "dataset2.name"
   ]
  },
  {
   "cell_type": "code",
   "execution_count": 113,
   "id": "8b1f1788",
   "metadata": {},
   "outputs": [
    {
     "data": {
      "text/plain": [
       "1"
      ]
     },
     "execution_count": 113,
     "metadata": {},
     "output_type": "execute_result"
    }
   ],
   "source": [
    "# Dataset objects have bands and this one has a band count of 1\n",
    "\n",
    "dataset.count"
   ]
  },
  {
   "cell_type": "code",
   "execution_count": 176,
   "id": "27f3b4e0",
   "metadata": {},
   "outputs": [
    {
     "data": {
      "text/plain": [
       "1"
      ]
     },
     "execution_count": 176,
     "metadata": {},
     "output_type": "execute_result"
    }
   ],
   "source": [
    "dataset2.count"
   ]
  },
  {
   "cell_type": "code",
   "execution_count": 114,
   "id": "0e90223c",
   "metadata": {},
   "outputs": [
    {
     "data": {
      "text/plain": [
       "17000"
      ]
     },
     "execution_count": 114,
     "metadata": {},
     "output_type": "execute_result"
    }
   ],
   "source": [
    "# A dataset band is an array of values\n",
    "# All band arrays of a dataset have the same number of rows and columns\n",
    "# width = columns \n",
    "\n",
    "dataset.width"
   ]
  },
  {
   "cell_type": "code",
   "execution_count": 177,
   "id": "2d968e16",
   "metadata": {},
   "outputs": [
    {
     "data": {
      "text/plain": [
       "32000"
      ]
     },
     "execution_count": 177,
     "metadata": {},
     "output_type": "execute_result"
    }
   ],
   "source": [
    "dataset2.width"
   ]
  },
  {
   "cell_type": "code",
   "execution_count": 115,
   "id": "cff25c04",
   "metadata": {},
   "outputs": [
    {
     "data": {
      "text/plain": [
       "9000"
      ]
     },
     "execution_count": 115,
     "metadata": {},
     "output_type": "execute_result"
    }
   ],
   "source": [
    "# height = rows \n",
    "\n",
    "dataset.height"
   ]
  },
  {
   "cell_type": "code",
   "execution_count": 178,
   "id": "71ad7415",
   "metadata": {},
   "outputs": [
    {
     "data": {
      "text/plain": [
       "12000"
      ]
     },
     "execution_count": 178,
     "metadata": {},
     "output_type": "execute_result"
    }
   ],
   "source": [
    "dataset2.height"
   ]
  },
  {
   "cell_type": "code",
   "execution_count": 116,
   "id": "092ddec5",
   "metadata": {},
   "outputs": [
    {
     "data": {
      "text/plain": [
       "{1: 'float32'}"
      ]
     },
     "execution_count": 116,
     "metadata": {},
     "output_type": "execute_result"
    }
   ],
   "source": [
    "# Apply a dictionary comprehension to the zip() product of a dataset’s indexes and dtypes attributes\n",
    "# to get a mapping of band indexes to variable data types \n",
    "\n",
    "{i: dtype for i, dtype in zip(dataset.indexes, dataset.dtypes)}"
   ]
  },
  {
   "cell_type": "code",
   "execution_count": 117,
   "id": "2e86b98b",
   "metadata": {},
   "outputs": [
    {
     "data": {
      "text/plain": [
       "BoundingBox(left=145000.0, bottom=238000.0, right=162000.0, top=247000.0)"
      ]
     },
     "execution_count": 117,
     "metadata": {},
     "output_type": "execute_result"
    }
   ],
   "source": [
    "dataset.bounds"
   ]
  },
  {
   "cell_type": "code",
   "execution_count": 179,
   "id": "a9a3d6fc",
   "metadata": {},
   "outputs": [
    {
     "data": {
      "text/plain": [
       "BoundingBox(left=162000.0, bottom=238000.0, right=194000.0, top=250000.0)"
      ]
     },
     "execution_count": 179,
     "metadata": {},
     "output_type": "execute_result"
    }
   ],
   "source": [
    "dataset2.bounds"
   ]
  },
  {
   "cell_type": "code",
   "execution_count": 118,
   "id": "bf528bfb",
   "metadata": {},
   "outputs": [],
   "source": [
    "meters_wide = dataset.bounds[2] - dataset.bounds[0]\n",
    "meters_high = dataset.bounds[3] - dataset.bounds[1]"
   ]
  },
  {
   "cell_type": "code",
   "execution_count": 119,
   "id": "72aeafe5",
   "metadata": {
    "scrolled": true
   },
   "outputs": [
    {
     "name": "stdout",
     "output_type": "stream",
     "text": [
      "17000.0 meters wide\n",
      "9000.0 meters high\n"
     ]
    }
   ],
   "source": [
    "print(f\"{meters_wide} meters wide\")\n",
    "print(f\"{meters_high} meters high\")"
   ]
  },
  {
   "cell_type": "code",
   "execution_count": 120,
   "id": "04cc4314",
   "metadata": {
    "scrolled": false
   },
   "outputs": [
    {
     "data": {
      "text/plain": [
       "Affine(1.0, 0.0, 145000.0,\n",
       "       0.0, -1.0, 247000.0)"
      ]
     },
     "execution_count": 120,
     "metadata": {},
     "output_type": "execute_result"
    }
   ],
   "source": [
    "dataset.transform # * (0, 0)"
   ]
  },
  {
   "cell_type": "code",
   "execution_count": 121,
   "id": "55bdb340",
   "metadata": {},
   "outputs": [
    {
     "data": {
      "text/plain": [
       "CRS.from_epsg(31370)"
      ]
     },
     "execution_count": 121,
     "metadata": {},
     "output_type": "execute_result"
    }
   ],
   "source": [
    "# These coordinate values are relative to the origin of the dataset’s Coordinate Reference System (CRS)\n",
    "\n",
    "dataset.crs"
   ]
  },
  {
   "cell_type": "markdown",
   "id": "2afc1159",
   "metadata": {},
   "source": [
    "### **EPSG 31370** refers to *Belgian Lambert 72 -- Belgium*\n",
    "\n",
    "#### Ref. URL: https://epsg.io/31370"
   ]
  },
  {
   "cell_type": "code",
   "execution_count": 122,
   "id": "5576ea0c",
   "metadata": {},
   "outputs": [
    {
     "data": {
      "text/plain": [
       "(1,)"
      ]
     },
     "execution_count": 122,
     "metadata": {},
     "output_type": "execute_result"
    }
   ],
   "source": [
    "dataset.indexes"
   ]
  },
  {
   "cell_type": "code",
   "execution_count": 123,
   "id": "af5418e3",
   "metadata": {},
   "outputs": [],
   "source": [
    "band1 = dataset.read(1)"
   ]
  },
  {
   "cell_type": "code",
   "execution_count": 125,
   "id": "df8b4080",
   "metadata": {},
   "outputs": [
    {
     "data": {
      "text/plain": [
       "numpy.ndarray"
      ]
     },
     "execution_count": 125,
     "metadata": {},
     "output_type": "execute_result"
    }
   ],
   "source": [
    "type(band1)"
   ]
  },
  {
   "cell_type": "code",
   "execution_count": 126,
   "id": "710ee6b7",
   "metadata": {},
   "outputs": [
    {
     "data": {
      "text/plain": [
       "array([[-9.999e+03, -9.999e+03, -9.999e+03, ...,  1.275e+01,  1.279e+01,\n",
       "         1.280e+01],\n",
       "       [-9.999e+03, -9.999e+03, -9.999e+03, ...,  1.280e+01,  1.281e+01,\n",
       "         1.284e+01],\n",
       "       [-9.999e+03, -9.999e+03, -9.999e+03, ...,  1.284e+01,  1.283e+01,\n",
       "         1.288e+01],\n",
       "       ...,\n",
       "       [ 4.520e+00,  4.550e+00,  4.570e+00, ...,  1.680e+01,  1.693e+01,\n",
       "         1.690e+01],\n",
       "       [ 4.490e+00,  4.570e+00,  4.580e+00, ...,  1.691e+01,  1.691e+01,\n",
       "         1.695e+01],\n",
       "       [ 4.480e+00,  4.550e+00,  4.570e+00, ...,  1.687e+01,  1.688e+01,\n",
       "         1.691e+01]], dtype=float32)"
      ]
     },
     "execution_count": 126,
     "metadata": {},
     "output_type": "execute_result"
    }
   ],
   "source": [
    "band1"
   ]
  },
  {
   "cell_type": "markdown",
   "id": "f0a2ef43",
   "metadata": {},
   "source": [
    "To get the value for the pixel 10 kilometers east and 5 kilometers south of the dataset’s upper left corner, do the following:"
   ]
  },
  {
   "cell_type": "code",
   "execution_count": 142,
   "id": "c932fc07",
   "metadata": {
    "scrolled": true
   },
   "outputs": [
    {
     "data": {
      "text/plain": [
       "145000.0"
      ]
     },
     "execution_count": 142,
     "metadata": {},
     "output_type": "execute_result"
    }
   ],
   "source": [
    "dataset.bounds.left"
   ]
  },
  {
   "cell_type": "code",
   "execution_count": 143,
   "id": "92e8f90c",
   "metadata": {},
   "outputs": [],
   "source": [
    "x, y = (dataset.bounds.left + 10000, dataset.bounds.top - 5000)"
   ]
  },
  {
   "cell_type": "code",
   "execution_count": 144,
   "id": "70fece11",
   "metadata": {},
   "outputs": [],
   "source": [
    "row, col = dataset.index(x, y)"
   ]
  },
  {
   "cell_type": "code",
   "execution_count": 145,
   "id": "73acca9e",
   "metadata": {
    "scrolled": true
   },
   "outputs": [
    {
     "data": {
      "text/plain": [
       "(5000, 10000)"
      ]
     },
     "execution_count": 145,
     "metadata": {},
     "output_type": "execute_result"
    }
   ],
   "source": [
    "row, col"
   ]
  },
  {
   "cell_type": "code",
   "execution_count": 146,
   "id": "b9541c46",
   "metadata": {},
   "outputs": [
    {
     "data": {
      "text/plain": [
       "25.95"
      ]
     },
     "execution_count": 146,
     "metadata": {},
     "output_type": "execute_result"
    }
   ],
   "source": [
    "band1[row, col]"
   ]
  },
  {
   "cell_type": "code",
   "execution_count": 147,
   "id": "388f99ff",
   "metadata": {},
   "outputs": [
    {
     "data": {
      "text/plain": [
       "(153500.5, 242499.5)"
      ]
     },
     "execution_count": 147,
     "metadata": {},
     "output_type": "execute_result"
    }
   ],
   "source": [
    "# To get the spatial coordinates of a pixel, use the dataset’s xy() method. \n",
    "# Ex.: the coordinates of the center of the image can be computed like this:\n",
    "\n",
    "dataset.xy(dataset.height // 2, dataset.width // 2)"
   ]
  },
  {
   "cell_type": "markdown",
   "id": "d7d276db",
   "metadata": {},
   "source": [
    "---"
   ]
  },
  {
   "cell_type": "markdown",
   "id": "da069d58",
   "metadata": {},
   "source": [
    "## GeoPy"
   ]
  },
  {
   "cell_type": "code",
   "execution_count": 168,
   "id": "1fe5aa2d",
   "metadata": {},
   "outputs": [
    {
     "data": {
      "text/plain": [
       "<geopy.geocoders.arcgis.ArcGIS at 0x7f8863047a60>"
      ]
     },
     "execution_count": 168,
     "metadata": {},
     "output_type": "execute_result"
    }
   ],
   "source": [
    "geopy.geocoders.ArcGIS()"
   ]
  },
  {
   "cell_type": "code",
   "execution_count": 169,
   "id": "0b2ecfef",
   "metadata": {
    "scrolled": false
   },
   "outputs": [
    {
     "name": "stdout",
     "output_type": "stream",
     "text": [
      "Flatiron Building, 175, 5th Avenue, Manhattan Community Board 5, Manhattan, New York, 10010, United States\n"
     ]
    }
   ],
   "source": [
    "geolocator = Nominatim(user_agent=\"ArcGIS\")\n",
    "location = geolocator.geocode(\"175 5th Avenue NYC\")\n",
    "print(location.address)"
   ]
  },
  {
   "cell_type": "code",
   "execution_count": 170,
   "id": "6f2361bb",
   "metadata": {},
   "outputs": [
    {
     "name": "stdout",
     "output_type": "stream",
     "text": [
      "(40.741059199999995, -73.98964162240998)\n"
     ]
    }
   ],
   "source": [
    "print((location.latitude, location.longitude))"
   ]
  },
  {
   "cell_type": "code",
   "execution_count": 171,
   "id": "4ff9a160",
   "metadata": {},
   "outputs": [],
   "source": [
    "location = geolocator.geocode(\"Brussels\")"
   ]
  },
  {
   "cell_type": "code",
   "execution_count": 172,
   "id": "2c8d66b8",
   "metadata": {
    "scrolled": true
   },
   "outputs": [
    {
     "name": "stdout",
     "output_type": "stream",
     "text": [
      "Ville de Bruxelles - Stad Brussel, Brussel-Hoofdstad - Bruxelles-Capitale, Région de Bruxelles-Capitale - Brussels Hoofdstedelijk Gewest, België / Belgique / Belgien\n"
     ]
    }
   ],
   "source": [
    "print(location.address)"
   ]
  },
  {
   "cell_type": "code",
   "execution_count": 173,
   "id": "c94a071f",
   "metadata": {
    "scrolled": true
   },
   "outputs": [
    {
     "name": "stdout",
     "output_type": "stream",
     "text": [
      "(50.8465573, 4.351697)\n"
     ]
    }
   ],
   "source": [
    "print((location.latitude, location.longitude))"
   ]
  },
  {
   "cell_type": "markdown",
   "id": "4a556e20",
   "metadata": {},
   "source": [
    "---"
   ]
  },
  {
   "cell_type": "markdown",
   "id": "a15b1db1",
   "metadata": {},
   "source": [
    "## ArcGIS"
   ]
  },
  {
   "cell_type": "code",
   "execution_count": 150,
   "id": "7197cb8f",
   "metadata": {},
   "outputs": [
    {
     "name": "stdout",
     "output_type": "stream",
     "text": [
      "ArcGIS Online as anonymous user\n",
      "Logged in as anonymous user to ArcGIS Online\n"
     ]
    }
   ],
   "source": [
    "print(\"ArcGIS Online as anonymous user\")\n",
    "gis = GIS()\n",
    "print(\"Logged in as anonymous user to \" + gis.properties.portalName)"
   ]
  },
  {
   "cell_type": "markdown",
   "id": "c9359b61",
   "metadata": {},
   "source": [
    "---"
   ]
  },
  {
   "cell_type": "markdown",
   "id": "9438b56e",
   "metadata": {},
   "source": [
    "## GeoPandas"
   ]
  },
  {
   "cell_type": "code",
   "execution_count": 182,
   "id": "35f7a986",
   "metadata": {},
   "outputs": [
    {
     "ename": "AttributeError",
     "evalue": "'Location' object has no attribute 'to_crs'",
     "output_type": "error",
     "traceback": [
      "\u001b[0;31m---------------------------------------------------------------------------\u001b[0m",
      "\u001b[0;31mAttributeError\u001b[0m                            Traceback (most recent call last)",
      "\u001b[0;32m/var/folders/ch/wk0d_9_x76q3n77pfj4jqnkr0000gn/T/ipykernel_5067/1058751972.py\u001b[0m in \u001b[0;36m<module>\u001b[0;34m\u001b[0m\n\u001b[0;32m----> 1\u001b[0;31m \u001b[0mlocation_crs\u001b[0m \u001b[0;34m=\u001b[0m \u001b[0mlocation\u001b[0m\u001b[0;34m.\u001b[0m\u001b[0mto_crs\u001b[0m\u001b[0;34m(\u001b[0m\u001b[0mworldBound_robin\u001b[0m\u001b[0;34m.\u001b[0m\u001b[0mcrs\u001b[0m\u001b[0;34m)\u001b[0m\u001b[0;34m\u001b[0m\u001b[0;34m\u001b[0m\u001b[0m\n\u001b[0m",
      "\u001b[0;31mAttributeError\u001b[0m: 'Location' object has no attribute 'to_crs'"
     ]
    }
   ],
   "source": [
    "location_crs = location.to_crs(worldBound_robin.crs)"
   ]
  },
  {
   "cell_type": "code",
   "execution_count": null,
   "id": "e5224a30",
   "metadata": {},
   "outputs": [],
   "source": []
  }
 ],
 "metadata": {
  "kernelspec": {
   "display_name": "Python 3 (ipykernel)",
   "language": "python",
   "name": "python3"
  },
  "language_info": {
   "codemirror_mode": {
    "name": "ipython",
    "version": 3
   },
   "file_extension": ".py",
   "mimetype": "text/x-python",
   "name": "python",
   "nbconvert_exporter": "python",
   "pygments_lexer": "ipython3",
   "version": "3.9.7"
  }
 },
 "nbformat": 4,
 "nbformat_minor": 5
}
