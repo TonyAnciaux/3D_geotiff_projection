{
 "cells": [
  {
   "cell_type": "markdown",
   "id": "e2d0cd59",
   "metadata": {},
   "source": [
    "# Data Exploring"
   ]
  },
  {
   "cell_type": "markdown",
   "id": "8166f49c",
   "metadata": {},
   "source": [
    "---"
   ]
  },
  {
   "cell_type": "code",
   "execution_count": 299,
   "id": "45f101b2",
   "metadata": {},
   "outputs": [],
   "source": [
    "import os\n",
    "from pathlib import Path\n",
    "import re\n",
    "import typing\n",
    "import matplotlib.pyplot as plt\n",
    "import geopy\n",
    "from geopy.geocoders import Nominatim\n",
    "import geopandas as gpd\n",
    "from pyproj import Proj, Transformer\n",
    "import shapefile\n",
    "import rasterio\n",
    "import rasterio.features\n",
    "import rasterio.warp\n",
    "from rasterio.plot import show\n",
    "from arcgis.gis import GIS"
   ]
  },
  {
   "cell_type": "markdown",
   "id": "52ffe0b7",
   "metadata": {},
   "source": [
    "---"
   ]
  },
  {
   "cell_type": "markdown",
   "id": "5ba56051",
   "metadata": {},
   "source": [
    "## PyShp"
   ]
  },
  {
   "cell_type": "markdown",
   "id": "f83e8de2",
   "metadata": {},
   "source": [
    "- NULL = 0\n",
    "- POINT = 1\n",
    "- POLYLINE = 3\n",
    "- POLYGON = 5\n",
    "- MULTIPOINT = 8\n",
    "- POINTZ = 11\n",
    "- POLYLINEZ = 13\n",
    "- POLYGONZ = 15\n",
    "- MULTIPOINTZ = 18\n",
    "- POINTM = 21\n",
    "- POLYLINEM = 23\n",
    "- POLYGONM = 25\n",
    "- MULTIPOINTM = 28\n",
    "- MULTIPATCH = 31"
   ]
  },
  {
   "cell_type": "code",
   "execution_count": 2,
   "id": "e320dc24",
   "metadata": {
    "scrolled": true
   },
   "outputs": [],
   "source": [
    "sf = shapefile.Reader(\"./Data/DHMVIIDSMRAS1m_k01/DHMVII_vdc_k01/DHMVII_vdc_k01\")"
   ]
  },
  {
   "cell_type": "code",
   "execution_count": 3,
   "id": "cf059868",
   "metadata": {},
   "outputs": [],
   "source": [
    "sf2 = shapefile.Reader(\"./Data/DHMVIIDSMRAS1m_k02/DHMVII_vdc_k02/DHMVII_vdc_k02\")"
   ]
  },
  {
   "cell_type": "code",
   "execution_count": 4,
   "id": "56901ff9",
   "metadata": {},
   "outputs": [],
   "source": [
    "sf3 = shapefile.Reader(\"./Data/DHMVIIDSMRAS1m_k03/DHMVII_vdc_k03/DHMVII_vdc_k03\")"
   ]
  },
  {
   "cell_type": "code",
   "execution_count": 5,
   "id": "42dc7cfb",
   "metadata": {
    "scrolled": true
   },
   "outputs": [
    {
     "data": {
      "text/plain": [
       "3"
      ]
     },
     "execution_count": 5,
     "metadata": {},
     "output_type": "execute_result"
    }
   ],
   "source": [
    "len(sf)"
   ]
  },
  {
   "cell_type": "code",
   "execution_count": 6,
   "id": "c4a32fb2",
   "metadata": {},
   "outputs": [
    {
     "data": {
      "text/plain": [
       "7"
      ]
     },
     "execution_count": 6,
     "metadata": {},
     "output_type": "execute_result"
    }
   ],
   "source": [
    "len(sf2)"
   ]
  },
  {
   "cell_type": "code",
   "execution_count": 7,
   "id": "8618df6c",
   "metadata": {},
   "outputs": [
    {
     "data": {
      "text/plain": [
       "5"
      ]
     },
     "execution_count": 7,
     "metadata": {},
     "output_type": "execute_result"
    }
   ],
   "source": [
    "len(sf3)"
   ]
  },
  {
   "cell_type": "code",
   "execution_count": 8,
   "id": "49950889",
   "metadata": {
    "scrolled": false
   },
   "outputs": [
    {
     "name": "stdout",
     "output_type": "stream",
     "text": [
      "shapefile Reader\n",
      "    3 shapes (type 'POLYGONZ')\n",
      "    3 records (4 fields)\n"
     ]
    }
   ],
   "source": [
    "print(sf)"
   ]
  },
  {
   "cell_type": "code",
   "execution_count": 9,
   "id": "d2ff780b",
   "metadata": {
    "scrolled": false
   },
   "outputs": [
    {
     "name": "stdout",
     "output_type": "stream",
     "text": [
      "shapefile Reader\n",
      "    7 shapes (type 'POLYGON')\n",
      "    7 records (4 fields)\n"
     ]
    }
   ],
   "source": [
    "print(sf2)"
   ]
  },
  {
   "cell_type": "code",
   "execution_count": 10,
   "id": "4f18896f",
   "metadata": {},
   "outputs": [
    {
     "name": "stdout",
     "output_type": "stream",
     "text": [
      "shapefile Reader\n",
      "    5 shapes (type 'POLYGONZ')\n",
      "    5 records (4 fields)\n"
     ]
    }
   ],
   "source": [
    "print(sf3)"
   ]
  },
  {
   "cell_type": "code",
   "execution_count": 11,
   "id": "7b64f308",
   "metadata": {
    "scrolled": true
   },
   "outputs": [
    {
     "data": {
      "text/plain": [
       "[144900.0, 237758.6700000018, 162100.0300195366, 247224.38999511302]"
      ]
     },
     "execution_count": 11,
     "metadata": {},
     "output_type": "execute_result"
    }
   ],
   "source": [
    "# the lower left (x,y) coordinate and upper right corner \n",
    "\n",
    "sf.bbox"
   ]
  },
  {
   "cell_type": "code",
   "execution_count": 12,
   "id": "fb4016bb",
   "metadata": {
    "scrolled": false
   },
   "outputs": [
    {
     "data": {
      "text/plain": [
       "shapefile._Array"
      ]
     },
     "execution_count": 12,
     "metadata": {},
     "output_type": "execute_result"
    }
   ],
   "source": [
    "type(sf.bbox)"
   ]
  },
  {
   "cell_type": "code",
   "execution_count": 13,
   "id": "d25aa7dc",
   "metadata": {
    "scrolled": false
   },
   "outputs": [
    {
     "data": {
      "text/plain": [
       "[162000.0001220703, 238000.0001220703, 194000.0001220703, 250000.0001220703]"
      ]
     },
     "execution_count": 13,
     "metadata": {},
     "output_type": "execute_result"
    }
   ],
   "source": [
    "sf2.bbox"
   ]
  },
  {
   "cell_type": "code",
   "execution_count": 14,
   "id": "498383b5",
   "metadata": {},
   "outputs": [
    {
     "data": {
      "text/plain": [
       "[193999.9999999993, 238000.00000000477, 206000.00000000017, 248000.00000000015]"
      ]
     },
     "execution_count": 14,
     "metadata": {},
     "output_type": "execute_result"
    }
   ],
   "source": [
    "sf3.bbox"
   ]
  },
  {
   "cell_type": "code",
   "execution_count": 15,
   "id": "97c9c169",
   "metadata": {},
   "outputs": [],
   "source": [
    "xmin = sf.bbox[0]\n",
    "ymin = sf.bbox[1]\n",
    "xmax = sf.bbox[2]\n",
    "ymax = sf.bbox[3]"
   ]
  },
  {
   "cell_type": "code",
   "execution_count": 16,
   "id": "abd21642",
   "metadata": {},
   "outputs": [],
   "source": [
    "shapes = sf.shape()"
   ]
  },
  {
   "cell_type": "code",
   "execution_count": 17,
   "id": "da1dc7c3",
   "metadata": {},
   "outputs": [
    {
     "data": {
      "text/plain": [
       "shapefile.Shape"
      ]
     },
     "execution_count": 17,
     "metadata": {},
     "output_type": "execute_result"
    }
   ],
   "source": [
    "type(shapes)"
   ]
  },
  {
   "cell_type": "code",
   "execution_count": 18,
   "id": "a5e0fca3",
   "metadata": {},
   "outputs": [],
   "source": [
    "shapes2 = sf2.shape()"
   ]
  },
  {
   "cell_type": "code",
   "execution_count": 19,
   "id": "90d59eb9",
   "metadata": {},
   "outputs": [],
   "source": [
    "shapes3 = sf3.shape()"
   ]
  },
  {
   "cell_type": "code",
   "execution_count": 20,
   "id": "d05a70ae",
   "metadata": {
    "scrolled": true
   },
   "outputs": [
    {
     "data": {
      "text/plain": [
       "0"
      ]
     },
     "execution_count": 20,
     "metadata": {},
     "output_type": "execute_result"
    }
   ],
   "source": [
    "# The shape's index position in the original shapefile \n",
    "\n",
    "shapes.oid"
   ]
  },
  {
   "cell_type": "code",
   "execution_count": 21,
   "id": "61a7535d",
   "metadata": {},
   "outputs": [
    {
     "data": {
      "text/plain": [
       "15"
      ]
     },
     "execution_count": 21,
     "metadata": {},
     "output_type": "execute_result"
    }
   ],
   "source": [
    "shapes3.shapeType"
   ]
  },
  {
   "cell_type": "code",
   "execution_count": 22,
   "id": "a9c2a00e",
   "metadata": {
    "scrolled": false
   },
   "outputs": [
    {
     "data": {
      "text/plain": [
       "5"
      ]
     },
     "execution_count": 22,
     "metadata": {},
     "output_type": "execute_result"
    }
   ],
   "source": [
    "shapes2.shapeType"
   ]
  },
  {
   "cell_type": "code",
   "execution_count": 23,
   "id": "54c282f9",
   "metadata": {
    "scrolled": true
   },
   "outputs": [
    {
     "data": {
      "text/plain": [
       "15"
      ]
     },
     "execution_count": 23,
     "metadata": {},
     "output_type": "execute_result"
    }
   ],
   "source": [
    "shapes.shapeType"
   ]
  },
  {
   "cell_type": "code",
   "execution_count": 24,
   "id": "32c31395",
   "metadata": {},
   "outputs": [
    {
     "data": {
      "text/plain": [
       "[0, 3344]"
      ]
     },
     "execution_count": 24,
     "metadata": {},
     "output_type": "execute_result"
    }
   ],
   "source": [
    "# If the shape record has multiple parts this attribute contains the index of the first point of each part.\n",
    "# If there is only one part then a list containing 0 is returned \n",
    "\n",
    "shapes.parts"
   ]
  },
  {
   "cell_type": "code",
   "execution_count": 25,
   "id": "d5a25064",
   "metadata": {
    "scrolled": true
   },
   "outputs": [
    {
     "data": {
      "text/plain": [
       "[0, 1288, 1609]"
      ]
     },
     "execution_count": 25,
     "metadata": {},
     "output_type": "execute_result"
    }
   ],
   "source": [
    "shapes2.parts"
   ]
  },
  {
   "cell_type": "code",
   "execution_count": 26,
   "id": "8ba27ca4",
   "metadata": {},
   "outputs": [
    {
     "data": {
      "text/plain": [
       "[0]"
      ]
     },
     "execution_count": 26,
     "metadata": {},
     "output_type": "execute_result"
    }
   ],
   "source": [
    "shapes3.parts"
   ]
  },
  {
   "cell_type": "code",
   "execution_count": 27,
   "id": "d73b508b",
   "metadata": {
    "scrolled": true
   },
   "outputs": [
    {
     "data": {
      "text/plain": [
       "(162100.0300195366, 246282.12998290733)"
      ]
     },
     "execution_count": 27,
     "metadata": {},
     "output_type": "execute_result"
    }
   ],
   "source": [
    "# contains a list of tuples containing an (x,y) coordinate for each point in the shape \n",
    "\n",
    "max(shapes.points)"
   ]
  },
  {
   "cell_type": "code",
   "execution_count": 28,
   "id": "64661a90",
   "metadata": {
    "scrolled": true
   },
   "outputs": [
    {
     "data": {
      "text/plain": [
       "(162000.0001220703, 245951.89288330078)"
      ]
     },
     "execution_count": 28,
     "metadata": {},
     "output_type": "execute_result"
    }
   ],
   "source": [
    "min(shapes2.points)"
   ]
  },
  {
   "cell_type": "code",
   "execution_count": 29,
   "id": "2d4b0a3c",
   "metadata": {
    "scrolled": false
   },
   "outputs": [
    {
     "data": {
      "text/plain": [
       "6268"
      ]
     },
     "execution_count": 29,
     "metadata": {},
     "output_type": "execute_result"
    }
   ],
   "source": [
    "len(shapes.points)"
   ]
  },
  {
   "cell_type": "code",
   "execution_count": 30,
   "id": "e1766c5d",
   "metadata": {},
   "outputs": [
    {
     "data": {
      "text/plain": [
       "1886"
      ]
     },
     "execution_count": 30,
     "metadata": {},
     "output_type": "execute_result"
    }
   ],
   "source": [
    "len(shapes2.points)"
   ]
  },
  {
   "cell_type": "code",
   "execution_count": 31,
   "id": "dc135012",
   "metadata": {},
   "outputs": [
    {
     "data": {
      "text/plain": [
       "353"
      ]
     },
     "execution_count": 31,
     "metadata": {},
     "output_type": "execute_result"
    }
   ],
   "source": [
    "len(shapes3.points)"
   ]
  },
  {
   "cell_type": "code",
   "execution_count": 32,
   "id": "7247627a",
   "metadata": {},
   "outputs": [],
   "source": [
    "fields = sf.fields"
   ]
  },
  {
   "cell_type": "code",
   "execution_count": 33,
   "id": "3e60bde3",
   "metadata": {},
   "outputs": [],
   "source": [
    "fields2 = sf2.fields"
   ]
  },
  {
   "cell_type": "code",
   "execution_count": 34,
   "id": "6838a926",
   "metadata": {},
   "outputs": [],
   "source": [
    "fields3 = sf3.fields"
   ]
  },
  {
   "cell_type": "code",
   "execution_count": 35,
   "id": "986bfff7",
   "metadata": {
    "scrolled": true
   },
   "outputs": [
    {
     "data": {
      "text/plain": [
       "[('DeletionFlag', 'C', 1, 0),\n",
       " ['Id', 'N', 6, 0],\n",
       " ['OpnDatum1', 'D', 8, 0],\n",
       " ['OpnDatum2', 'D', 8, 0]]"
      ]
     },
     "execution_count": 35,
     "metadata": {},
     "output_type": "execute_result"
    }
   ],
   "source": [
    "fields"
   ]
  },
  {
   "cell_type": "code",
   "execution_count": 36,
   "id": "02b69e38",
   "metadata": {
    "scrolled": true
   },
   "outputs": [
    {
     "data": {
      "text/plain": [
       "[('DeletionFlag', 'C', 1, 0),\n",
       " ['Date', 'C', 254, 0],\n",
       " ['OpnDatum1', 'D', 8, 0],\n",
       " ['OpnDatum2', 'D', 8, 0]]"
      ]
     },
     "execution_count": 36,
     "metadata": {},
     "output_type": "execute_result"
    }
   ],
   "source": [
    "fields2"
   ]
  },
  {
   "cell_type": "code",
   "execution_count": 37,
   "id": "55e11c18",
   "metadata": {},
   "outputs": [
    {
     "data": {
      "text/plain": [
       "[('DeletionFlag', 'C', 1, 0),\n",
       " ['Date', 'C', 254, 0],\n",
       " ['OpnDatum1', 'D', 8, 0],\n",
       " ['OpnDatum2', 'D', 8, 0]]"
      ]
     },
     "execution_count": 37,
     "metadata": {},
     "output_type": "execute_result"
    }
   ],
   "source": [
    "fields3"
   ]
  },
  {
   "cell_type": "code",
   "execution_count": 38,
   "id": "0e5df3f9",
   "metadata": {},
   "outputs": [],
   "source": [
    "records = sf.records()"
   ]
  },
  {
   "cell_type": "code",
   "execution_count": 39,
   "id": "572a4e96",
   "metadata": {},
   "outputs": [],
   "source": [
    "records2 = sf2.records()"
   ]
  },
  {
   "cell_type": "code",
   "execution_count": 40,
   "id": "7264759b",
   "metadata": {},
   "outputs": [],
   "source": [
    "records3 = sf3.records()"
   ]
  },
  {
   "cell_type": "code",
   "execution_count": 41,
   "id": "bf3560e8",
   "metadata": {
    "scrolled": true
   },
   "outputs": [
    {
     "data": {
      "text/plain": [
       "3"
      ]
     },
     "execution_count": 41,
     "metadata": {},
     "output_type": "execute_result"
    }
   ],
   "source": [
    "len(records)"
   ]
  },
  {
   "cell_type": "code",
   "execution_count": 42,
   "id": "3df033bf",
   "metadata": {
    "scrolled": true
   },
   "outputs": [
    {
     "data": {
      "text/plain": [
       "[Record #0: [0, datetime.date(2013, 2, 20), None],\n",
       " Record #1: [0, datetime.date(2013, 4, 1), None],\n",
       " Record #2: [0, datetime.date(2013, 2, 20), datetime.date(2013, 4, 1)]]"
      ]
     },
     "execution_count": 42,
     "metadata": {},
     "output_type": "execute_result"
    }
   ],
   "source": [
    "records"
   ]
  },
  {
   "cell_type": "code",
   "execution_count": 43,
   "id": "193d1987",
   "metadata": {},
   "outputs": [
    {
     "data": {
      "text/plain": [
       "[Record #0: ['20140129', datetime.date(2014, 1, 29), None],\n",
       " Record #1: ['20140130', datetime.date(2014, 1, 29), datetime.date(2014, 1, 30)],\n",
       " Record #2: ['20140130', datetime.date(2014, 1, 30), None],\n",
       " Record #3: ['20140131', datetime.date(2014, 1, 30), datetime.date(2014, 1, 31)],\n",
       " Record #4: ['20140131', datetime.date(2014, 1, 31), None],\n",
       " Record #5: ['20140202', datetime.date(2014, 1, 31), datetime.date(2014, 2, 2)],\n",
       " Record #6: ['20140202', datetime.date(2014, 2, 2), None]]"
      ]
     },
     "execution_count": 43,
     "metadata": {},
     "output_type": "execute_result"
    }
   ],
   "source": [
    "records2"
   ]
  },
  {
   "cell_type": "code",
   "execution_count": 44,
   "id": "5bf0564b",
   "metadata": {},
   "outputs": [
    {
     "data": {
      "text/plain": [
       "[Record #0: ['20141121', datetime.date(2014, 11, 21), None],\n",
       " Record #1: ['20141124', datetime.date(2014, 11, 24), None],\n",
       " Record #2: ['20141125', datetime.date(2014, 11, 25), None],\n",
       " Record #3: ['20141121', datetime.date(2014, 11, 21), datetime.date(2014, 11, 24)],\n",
       " Record #4: ['20141125', datetime.date(2014, 11, 24), datetime.date(2015, 11, 25)]]"
      ]
     },
     "execution_count": 44,
     "metadata": {},
     "output_type": "execute_result"
    }
   ],
   "source": [
    "records3"
   ]
  },
  {
   "cell_type": "code",
   "execution_count": 45,
   "id": "c30a4e38",
   "metadata": {},
   "outputs": [],
   "source": [
    "shapeRecs = sf.shapeRecords()"
   ]
  },
  {
   "cell_type": "code",
   "execution_count": 46,
   "id": "ec9b1d49",
   "metadata": {},
   "outputs": [],
   "source": [
    "shapeRecs2 = sf2.shapeRecords()"
   ]
  },
  {
   "cell_type": "code",
   "execution_count": 47,
   "id": "6ccc88d6",
   "metadata": {
    "scrolled": true
   },
   "outputs": [
    {
     "name": "stdout",
     "output_type": "stream",
     "text": [
      "ShapeRecords: [<shapefile.ShapeRecord object at 0x7fb1a04a1250>, <shapefile.ShapeRecord object at 0x7fb1a383ad00>, <shapefile.ShapeRecord object at 0x7fb1a0546d00>]\n"
     ]
    }
   ],
   "source": [
    "print(shapeRecs)"
   ]
  },
  {
   "cell_type": "markdown",
   "id": "e76911f6",
   "metadata": {},
   "source": [
    "---"
   ]
  },
  {
   "cell_type": "markdown",
   "id": "9d6ada5f",
   "metadata": {},
   "source": [
    "## Rasterio"
   ]
  },
  {
   "cell_type": "code",
   "execution_count": 48,
   "id": "17bd0769",
   "metadata": {},
   "outputs": [],
   "source": [
    "dataset = rasterio.open(\"./Data/DHMVIIDSMRAS1m_k01/GeoTIFF/DHMVIIDSMRAS1m_k01.tif\")"
   ]
  },
  {
   "cell_type": "code",
   "execution_count": 49,
   "id": "9373756f",
   "metadata": {
    "scrolled": true
   },
   "outputs": [
    {
     "data": {
      "text/plain": [
       "rasterio.io.DatasetReader"
      ]
     },
     "execution_count": 49,
     "metadata": {},
     "output_type": "execute_result"
    }
   ],
   "source": [
    "type(dataset)"
   ]
  },
  {
   "cell_type": "code",
   "execution_count": 101,
   "id": "95032074",
   "metadata": {},
   "outputs": [
    {
     "data": {
      "image/png": "[encoded data removed]",
      "text/plain": [
       "<Figure size 432x288 with 1 Axes>"
      ]
     },
     "metadata": {
      "needs_background": "light"
     },
     "output_type": "display_data"
    },
    {
     "data": {
      "text/plain": [
       "<AxesSubplot:>"
      ]
     },
     "execution_count": 101,
     "metadata": {},
     "output_type": "execute_result"
    }
   ],
   "source": [
    "show(dataset)"
   ]
  },
  {
   "cell_type": "code",
   "execution_count": 50,
   "id": "ebc0f4cd",
   "metadata": {},
   "outputs": [],
   "source": [
    "dataset2 = rasterio.open(\"./Data/DHMVIIDSMRAS1m_k02/GeoTIFF/DHMVIIDSMRAS1m_k02.tif\")"
   ]
  },
  {
   "cell_type": "code",
   "execution_count": 104,
   "id": "c1cafc19",
   "metadata": {},
   "outputs": [
    {
     "data": {
      "image/png": "[encoded data removed]",
      "text/plain": [
       "<Figure size 432x288 with 1 Axes>"
      ]
     },
     "metadata": {
      "needs_background": "light"
     },
     "output_type": "display_data"
    },
    {
     "data": {
      "text/plain": [
       "<AxesSubplot:>"
      ]
     },
     "execution_count": 104,
     "metadata": {},
     "output_type": "execute_result"
    }
   ],
   "source": [
    "show(dataset2)"
   ]
  },
  {
   "cell_type": "code",
   "execution_count": 51,
   "id": "344c5bb5",
   "metadata": {},
   "outputs": [],
   "source": [
    "#with rasterio.open(\n",
    "#    \"./Data/DHMVIIDSMRAS1m_k01/GeoTIFF/DHMVIIDSMRAS1m_k01.tif\"\n",
    "#) as dataset:\n",
    "#    mask = dataset.dataset_mask()\n",
    "#    for geom, val in rasterio.features.shapes(mask, transform=dataset.transform):\n",
    "#        geom = rasterio.warp.transform_geom(dataset.crs, \"EPSG:4326\", geom, precision=6)\n",
    "#        print(geom)"
   ]
  },
  {
   "cell_type": "code",
   "execution_count": 52,
   "id": "9fa8396a",
   "metadata": {
    "scrolled": true
   },
   "outputs": [
    {
     "data": {
      "text/plain": [
       "'./Data/DHMVIIDSMRAS1m_k01/GeoTIFF/DHMVIIDSMRAS1m_k01.tif'"
      ]
     },
     "execution_count": 52,
     "metadata": {},
     "output_type": "execute_result"
    }
   ],
   "source": [
    "dataset.name"
   ]
  },
  {
   "cell_type": "code",
   "execution_count": 53,
   "id": "02ba2039",
   "metadata": {},
   "outputs": [
    {
     "data": {
      "text/plain": [
       "'./Data/DHMVIIDSMRAS1m_k02/GeoTIFF/DHMVIIDSMRAS1m_k02.tif'"
      ]
     },
     "execution_count": 53,
     "metadata": {},
     "output_type": "execute_result"
    }
   ],
   "source": [
    "dataset2.name"
   ]
  },
  {
   "cell_type": "code",
   "execution_count": 54,
   "id": "a1ecf7b0",
   "metadata": {},
   "outputs": [
    {
     "data": {
      "text/plain": [
       "1"
      ]
     },
     "execution_count": 54,
     "metadata": {},
     "output_type": "execute_result"
    }
   ],
   "source": [
    "# Dataset objects have bands and this one has a band count of 1\n",
    "\n",
    "dataset.count"
   ]
  },
  {
   "cell_type": "code",
   "execution_count": 55,
   "id": "4299908d",
   "metadata": {},
   "outputs": [
    {
     "data": {
      "text/plain": [
       "1"
      ]
     },
     "execution_count": 55,
     "metadata": {},
     "output_type": "execute_result"
    }
   ],
   "source": [
    "dataset2.count"
   ]
  },
  {
   "cell_type": "code",
   "execution_count": 56,
   "id": "8ba4f130",
   "metadata": {},
   "outputs": [
    {
     "data": {
      "text/plain": [
       "17000"
      ]
     },
     "execution_count": 56,
     "metadata": {},
     "output_type": "execute_result"
    }
   ],
   "source": [
    "# A dataset band is an array of values\n",
    "# All band arrays of a dataset have the same number of rows and columns\n",
    "# width = columns \n",
    "\n",
    "dataset.width"
   ]
  },
  {
   "cell_type": "code",
   "execution_count": 57,
   "id": "91162084",
   "metadata": {},
   "outputs": [
    {
     "data": {
      "text/plain": [
       "32000"
      ]
     },
     "execution_count": 57,
     "metadata": {},
     "output_type": "execute_result"
    }
   ],
   "source": [
    "dataset2.width"
   ]
  },
  {
   "cell_type": "code",
   "execution_count": 58,
   "id": "c82684fb",
   "metadata": {},
   "outputs": [
    {
     "data": {
      "text/plain": [
       "9000"
      ]
     },
     "execution_count": 58,
     "metadata": {},
     "output_type": "execute_result"
    }
   ],
   "source": [
    "# height = rows \n",
    "\n",
    "dataset.height"
   ]
  },
  {
   "cell_type": "code",
   "execution_count": 59,
   "id": "27851bfa",
   "metadata": {},
   "outputs": [
    {
     "data": {
      "text/plain": [
       "12000"
      ]
     },
     "execution_count": 59,
     "metadata": {},
     "output_type": "execute_result"
    }
   ],
   "source": [
    "dataset2.height"
   ]
  },
  {
   "cell_type": "code",
   "execution_count": 60,
   "id": "2c91519e",
   "metadata": {},
   "outputs": [
    {
     "data": {
      "text/plain": [
       "{1: 'float32'}"
      ]
     },
     "execution_count": 60,
     "metadata": {},
     "output_type": "execute_result"
    }
   ],
   "source": [
    "# Apply a dictionary comprehension to the zip() product of a dataset’s indexes and dtypes attributes\n",
    "# to get a mapping of band indexes to variable data types \n",
    "\n",
    "{i: dtype for i, dtype in zip(dataset.indexes, dataset.dtypes)}"
   ]
  },
  {
   "cell_type": "code",
   "execution_count": 61,
   "id": "4e7b6e50",
   "metadata": {
    "scrolled": true
   },
   "outputs": [
    {
     "data": {
      "text/plain": [
       "BoundingBox(left=145000.0, bottom=238000.0, right=162000.0, top=247000.0)"
      ]
     },
     "execution_count": 61,
     "metadata": {},
     "output_type": "execute_result"
    }
   ],
   "source": [
    "dataset.bounds"
   ]
  },
  {
   "cell_type": "code",
   "execution_count": 62,
   "id": "f8aec08d",
   "metadata": {},
   "outputs": [
    {
     "data": {
      "text/plain": [
       "BoundingBox(left=162000.0, bottom=238000.0, right=194000.0, top=250000.0)"
      ]
     },
     "execution_count": 62,
     "metadata": {},
     "output_type": "execute_result"
    }
   ],
   "source": [
    "dataset2.bounds"
   ]
  },
  {
   "cell_type": "code",
   "execution_count": 63,
   "id": "000f4cbd",
   "metadata": {},
   "outputs": [],
   "source": [
    "meters_wide = dataset.bounds[2] - dataset.bounds[0]\n",
    "meters_high = dataset.bounds[3] - dataset.bounds[1]"
   ]
  },
  {
   "cell_type": "code",
   "execution_count": 64,
   "id": "ad979229",
   "metadata": {
    "scrolled": false
   },
   "outputs": [
    {
     "name": "stdout",
     "output_type": "stream",
     "text": [
      "17000.0 meters wide\n",
      "9000.0 meters high\n"
     ]
    }
   ],
   "source": [
    "print(f\"{meters_wide} meters wide\")\n",
    "print(f\"{meters_high} meters high\")"
   ]
  },
  {
   "cell_type": "code",
   "execution_count": 65,
   "id": "36b57661",
   "metadata": {
    "scrolled": false
   },
   "outputs": [
    {
     "data": {
      "text/plain": [
       "Affine(1.0, 0.0, 145000.0,\n",
       "       0.0, -1.0, 247000.0)"
      ]
     },
     "execution_count": 65,
     "metadata": {},
     "output_type": "execute_result"
    }
   ],
   "source": [
    "dataset.transform # * (0, 0)"
   ]
  },
  {
   "cell_type": "code",
   "execution_count": 66,
   "id": "14c8c2d3",
   "metadata": {},
   "outputs": [
    {
     "data": {
      "text/plain": [
       "CRS.from_epsg(31370)"
      ]
     },
     "execution_count": 66,
     "metadata": {},
     "output_type": "execute_result"
    }
   ],
   "source": [
    "# These coordinate values are relative to the origin of the dataset’s Coordinate Reference System (CRS)\n",
    "\n",
    "dataset.crs"
   ]
  },
  {
   "cell_type": "markdown",
   "id": "af995c51",
   "metadata": {},
   "source": [
    "#### **EPSG 31370** refers to *Belgian Lambert 72 -- Belgium*\n",
    "\n",
    "#### Ref. URL: https://epsg.io/31370"
   ]
  },
  {
   "cell_type": "code",
   "execution_count": 67,
   "id": "621c869d",
   "metadata": {},
   "outputs": [
    {
     "data": {
      "text/plain": [
       "(1,)"
      ]
     },
     "execution_count": 67,
     "metadata": {},
     "output_type": "execute_result"
    }
   ],
   "source": [
    "dataset.indexes"
   ]
  },
  {
   "cell_type": "code",
   "execution_count": 68,
   "id": "330e0b5d",
   "metadata": {},
   "outputs": [],
   "source": [
    "band1 = dataset.read(1)"
   ]
  },
  {
   "cell_type": "code",
   "execution_count": 111,
   "id": "368d7590",
   "metadata": {},
   "outputs": [],
   "source": [
    "band2 = dataset2.read(1)"
   ]
  },
  {
   "cell_type": "code",
   "execution_count": 69,
   "id": "1a430ea5",
   "metadata": {
    "scrolled": false
   },
   "outputs": [
    {
     "data": {
      "text/plain": [
       "numpy.ndarray"
      ]
     },
     "execution_count": 69,
     "metadata": {},
     "output_type": "execute_result"
    }
   ],
   "source": [
    "type(band1)"
   ]
  },
  {
   "cell_type": "code",
   "execution_count": 103,
   "id": "26df7dfb",
   "metadata": {},
   "outputs": [
    {
     "data": {
      "text/plain": [
       "(9000, 17000)"
      ]
     },
     "execution_count": 103,
     "metadata": {},
     "output_type": "execute_result"
    }
   ],
   "source": [
    "band1.shape"
   ]
  },
  {
   "cell_type": "code",
   "execution_count": 70,
   "id": "44ccfd56",
   "metadata": {},
   "outputs": [
    {
     "data": {
      "text/plain": [
       "array([[-9.999e+03, -9.999e+03, -9.999e+03, ...,  1.275e+01,  1.279e+01,\n",
       "         1.280e+01],\n",
       "       [-9.999e+03, -9.999e+03, -9.999e+03, ...,  1.280e+01,  1.281e+01,\n",
       "         1.284e+01],\n",
       "       [-9.999e+03, -9.999e+03, -9.999e+03, ...,  1.284e+01,  1.283e+01,\n",
       "         1.288e+01],\n",
       "       ...,\n",
       "       [ 4.520e+00,  4.550e+00,  4.570e+00, ...,  1.680e+01,  1.693e+01,\n",
       "         1.690e+01],\n",
       "       [ 4.490e+00,  4.570e+00,  4.580e+00, ...,  1.691e+01,  1.691e+01,\n",
       "         1.695e+01],\n",
       "       [ 4.480e+00,  4.550e+00,  4.570e+00, ...,  1.687e+01,  1.688e+01,\n",
       "         1.691e+01]], dtype=float32)"
      ]
     },
     "execution_count": 70,
     "metadata": {},
     "output_type": "execute_result"
    }
   ],
   "source": [
    "band1"
   ]
  },
  {
   "cell_type": "code",
   "execution_count": 199,
   "id": "90909fc7",
   "metadata": {
    "scrolled": true
   },
   "outputs": [
    {
     "data": {
      "text/plain": [
       "array([-9999.  , -9999.  , -9999.  , ...,    34.77,    26.91,    34.86],\n",
       "      dtype=float32)"
      ]
     },
     "execution_count": 199,
     "metadata": {},
     "output_type": "execute_result"
    }
   ],
   "source": [
    "band1[5000]"
   ]
  },
  {
   "cell_type": "code",
   "execution_count": 72,
   "id": "97526761",
   "metadata": {
    "scrolled": false
   },
   "outputs": [
    {
     "data": {
      "text/plain": [
       "145000.0"
      ]
     },
     "execution_count": 72,
     "metadata": {},
     "output_type": "execute_result"
    }
   ],
   "source": [
    "dataset.bounds.left"
   ]
  },
  {
   "cell_type": "markdown",
   "id": "02402b90",
   "metadata": {},
   "source": [
    "To get the value for the pixel 10 kilometers east and 5 kilometers south of the dataset’s upper left corner, do the following:"
   ]
  },
  {
   "cell_type": "code",
   "execution_count": 73,
   "id": "6446701b",
   "metadata": {},
   "outputs": [],
   "source": [
    "x, y = (dataset.bounds.left + 10000, dataset.bounds.top - 5000)"
   ]
  },
  {
   "cell_type": "code",
   "execution_count": 74,
   "id": "63e72bcf",
   "metadata": {},
   "outputs": [],
   "source": [
    "row, col = dataset.index(x, y)"
   ]
  },
  {
   "cell_type": "code",
   "execution_count": 75,
   "id": "4c293e58",
   "metadata": {
    "scrolled": true
   },
   "outputs": [
    {
     "data": {
      "text/plain": [
       "(5000, 10000)"
      ]
     },
     "execution_count": 75,
     "metadata": {},
     "output_type": "execute_result"
    }
   ],
   "source": [
    "row, col"
   ]
  },
  {
   "cell_type": "code",
   "execution_count": 76,
   "id": "79d7ffe4",
   "metadata": {},
   "outputs": [
    {
     "data": {
      "text/plain": [
       "25.95"
      ]
     },
     "execution_count": 76,
     "metadata": {},
     "output_type": "execute_result"
    }
   ],
   "source": [
    "band1[row, col]"
   ]
  },
  {
   "cell_type": "code",
   "execution_count": 77,
   "id": "87564d36",
   "metadata": {
    "scrolled": false
   },
   "outputs": [
    {
     "data": {
      "text/plain": [
       "(153500.5, 242499.5)"
      ]
     },
     "execution_count": 77,
     "metadata": {},
     "output_type": "execute_result"
    }
   ],
   "source": [
    "# To get the spatial coordinates of a pixel, use the dataset’s xy() method. \n",
    "# Ex.: the coordinates of the center of the image can be computed like this:\n",
    "\n",
    "dataset.xy(dataset.height // 2, dataset.width // 2)"
   ]
  },
  {
   "cell_type": "code",
   "execution_count": 114,
   "id": "075a2078",
   "metadata": {
    "scrolled": true
   },
   "outputs": [
    {
     "data": {
      "text/plain": [
       "<matplotlib.image.AxesImage at 0x7fae80ea78b0>"
      ]
     },
     "execution_count": 114,
     "metadata": {},
     "output_type": "execute_result"
    },
    {
     "data": {
      "image/png": "[encoded data removed]",
      "text/plain": [
       "<Figure size 432x288 with 2 Axes>"
      ]
     },
     "metadata": {
      "needs_background": "light"
     },
     "output_type": "display_data"
    }
   ],
   "source": [
    "fig = plt.figure()\n",
    "ax1 = fig.add_subplot(2, 2, 1)\n",
    "ax1.imshow(band1)\n",
    "ax2 = fig.add_subplot(2, 2, 2)\n",
    "ax2.imshow(band2)"
   ]
  },
  {
   "cell_type": "code",
   "execution_count": 115,
   "id": "e8406942",
   "metadata": {
    "scrolled": true
   },
   "outputs": [
    {
     "data": {
      "text/plain": [
       "{'driver': 'GTiff',\n",
       " 'dtype': 'float32',\n",
       " 'nodata': -9999.0,\n",
       " 'width': 17000,\n",
       " 'height': 9000,\n",
       " 'count': 1,\n",
       " 'crs': CRS.from_epsg(31370),\n",
       " 'transform': Affine(1.0, 0.0, 145000.0,\n",
       "        0.0, -1.0, 247000.0)}"
      ]
     },
     "execution_count": 115,
     "metadata": {},
     "output_type": "execute_result"
    }
   ],
   "source": [
    "dataset.meta"
   ]
  },
  {
   "cell_type": "code",
   "execution_count": 116,
   "id": "da546810",
   "metadata": {
    "scrolled": true
   },
   "outputs": [
    {
     "data": {
      "text/plain": [
       "{'driver': 'GTiff',\n",
       " 'dtype': 'float32',\n",
       " 'nodata': -9999.0,\n",
       " 'width': 32000,\n",
       " 'height': 12000,\n",
       " 'count': 1,\n",
       " 'crs': CRS.from_epsg(31370),\n",
       " 'transform': Affine(1.0, 0.0, 162000.0,\n",
       "        0.0, -1.0, 250000.0)}"
      ]
     },
     "execution_count": 116,
     "metadata": {},
     "output_type": "execute_result"
    }
   ],
   "source": [
    "dataset2.meta"
   ]
  },
  {
   "cell_type": "code",
   "execution_count": 120,
   "id": "c428ce6b",
   "metadata": {
    "scrolled": true
   },
   "outputs": [
    {
     "data": {
      "image/png": "[encoded data removed]",
      "text/plain": [
       "<Figure size 432x288 with 1 Axes>"
      ]
     },
     "metadata": {
      "needs_background": "light"
     },
     "output_type": "display_data"
    }
   ],
   "source": [
    "rasterio.plot.show_hist(band1, bins=10)"
   ]
  },
  {
   "cell_type": "markdown",
   "id": "d3b01983",
   "metadata": {},
   "source": [
    "---"
   ]
  },
  {
   "cell_type": "markdown",
   "id": "8cd9cede",
   "metadata": {},
   "source": [
    "## GeoPy"
   ]
  },
  {
   "cell_type": "code",
   "execution_count": 147,
   "id": "9b4d7372",
   "metadata": {
    "scrolled": true
   },
   "outputs": [
    {
     "data": {
      "text/plain": [
       "<geopy.geocoders.arcgis.ArcGIS at 0x7fac19cc6d30>"
      ]
     },
     "execution_count": 147,
     "metadata": {},
     "output_type": "execute_result"
    }
   ],
   "source": [
    "geopy.geocoders.ArcGIS()"
   ]
  },
  {
   "cell_type": "code",
   "execution_count": 148,
   "id": "c986a79d",
   "metadata": {
    "scrolled": false
   },
   "outputs": [
    {
     "name": "stdout",
     "output_type": "stream",
     "text": [
      "Flatiron Building, 175, 5th Avenue, Manhattan Community Board 5, Manhattan, New York, 10010, United States\n"
     ]
    }
   ],
   "source": [
    "geolocator = Nominatim(user_agent=\"ArcGIS\")\n",
    "location = geolocator.geocode(\"175 5th Avenue NYC\")\n",
    "print(location.address)"
   ]
  },
  {
   "cell_type": "code",
   "execution_count": 149,
   "id": "a1f78434",
   "metadata": {
    "scrolled": true
   },
   "outputs": [
    {
     "name": "stdout",
     "output_type": "stream",
     "text": [
      "(40.741059199999995, -73.98964162240998)\n"
     ]
    }
   ],
   "source": [
    "print((location.latitude, location.longitude))"
   ]
  },
  {
   "cell_type": "code",
   "execution_count": 163,
   "id": "63d6529f",
   "metadata": {},
   "outputs": [],
   "source": [
    "location = geolocator.geocode(\"Place Saint-Lambert 17, 1020 Bruxelles\")"
   ]
  },
  {
   "cell_type": "code",
   "execution_count": 165,
   "id": "acf1b9f1",
   "metadata": {
    "scrolled": true
   },
   "outputs": [
    {
     "name": "stdout",
     "output_type": "stream",
     "text": [
      "17, Place Saint-Lambert - Sint-Lambertusplein, Heysel - Heizel, Laeken - Laken, Ville de Bruxelles - Stad Brussel, Brussel-Hoofdstad - Bruxelles-Capitale, Région de Bruxelles-Capitale - Brussels Hoofdstedelijk Gewest, 1020, België / Belgique / Belgien\n"
     ]
    }
   ],
   "source": [
    "print(location.address)"
   ]
  },
  {
   "cell_type": "code",
   "execution_count": 166,
   "id": "90e6b8c4",
   "metadata": {
    "scrolled": false
   },
   "outputs": [
    {
     "name": "stdout",
     "output_type": "stream",
     "text": [
      "50.890366 4.343493783022129\n"
     ]
    }
   ],
   "source": [
    "print(location.latitude, location.longitude)"
   ]
  },
  {
   "cell_type": "markdown",
   "id": "ba709fdd",
   "metadata": {},
   "source": [
    "---"
   ]
  },
  {
   "cell_type": "markdown",
   "id": "d715669e",
   "metadata": {},
   "source": [
    "## ArcGIS"
   ]
  },
  {
   "cell_type": "code",
   "execution_count": 192,
   "id": "e84a2b85",
   "metadata": {
    "scrolled": true
   },
   "outputs": [
    {
     "name": "stdout",
     "output_type": "stream",
     "text": [
      "ArcGIS Online as anonymous user\n",
      "Logged in as anonymous user to ArcGIS Online\n"
     ]
    }
   ],
   "source": [
    "print(\"ArcGIS Online as anonymous user\")\n",
    "gis = GIS()\n",
    "print(\"Logged in as anonymous user to \" + gis.properties.portalName)"
   ]
  },
  {
   "cell_type": "markdown",
   "id": "5497bd8c",
   "metadata": {},
   "source": [
    "---"
   ]
  },
  {
   "cell_type": "code",
   "execution_count": 222,
   "id": "8860e226",
   "metadata": {},
   "outputs": [],
   "source": [
    "def address_to_location(address: str) -> float:\n",
    "    geopy.geocoders.ArcGIS()\n",
    "    geolocator = Nominatim(user_agent=\"ArcGIS\")\n",
    "    address = input(\"Insert your address here: \")\n",
    "    location = geolocator.geocode(f\"{address}\")\n",
    "    latitude = location.latitude\n",
    "    longitude = location.longitude\n",
    "    return longitude, latitude\n",
    "\n",
    "\n",
    "    #proj = pyproj.Proj(proj='utm', zone=31, ellps='epsg:31370', preserve_units=False)\n",
    "    #crs_proj = proj(longitude, latitude)\n",
    "    #return proj(longitude, latitude, inverse=True)"
   ]
  },
  {
   "cell_type": "code",
   "execution_count": 312,
   "id": "a5d907ef",
   "metadata": {
    "scrolled": true
   },
   "outputs": [],
   "source": [
    "def location_to_crs(x: float, y: float) -> int:\n",
    "    inProj = Proj('epsg:4326')\n",
    "    outProj = Proj('epsg:31370')\n",
    "    x2,y2 = transform(inProj, outProj, y, x)\n",
    "    return(int(x2),int(y2))"
   ]
  },
  {
   "cell_type": "code",
   "execution_count": 307,
   "id": "26b2dac4",
   "metadata": {
    "scrolled": false
   },
   "outputs": [
    {
     "name": "stderr",
     "output_type": "stream",
     "text": [
      "/var/folders/ch/wk0d_9_x76q3n77pfj4jqnkr0000gn/T/ipykernel_6825/2551340627.py:4: DeprecationWarning: This function is deprecated. See: https://pyproj4.github.io/pyproj/stable/gotchas.html#upgrading-to-pyproj-2-from-pyproj-1\n",
      "  x2,y2 = transform(inProj, outProj, y, x)\n"
     ]
    },
    {
     "data": {
      "text/plain": [
       "(148222, 175557)"
      ]
     },
     "execution_count": 307,
     "metadata": {},
     "output_type": "execute_result"
    }
   ],
   "source": [
    "location_to_crs(4.343493783022129, 50.890366)"
   ]
  },
  {
   "cell_type": "code",
   "execution_count": 223,
   "id": "160dcea7",
   "metadata": {
    "scrolled": false
   },
   "outputs": [
    {
     "name": "stdout",
     "output_type": "stream",
     "text": [
      "Insert your address here: Place Saint-Lambert 17, 1020 Bruxelles\n"
     ]
    },
    {
     "data": {
      "text/plain": [
       "(4.343493783022129, 50.890366)"
      ]
     },
     "execution_count": 223,
     "metadata": {},
     "output_type": "execute_result"
    }
   ],
   "source": [
    "address_to_location()"
   ]
  },
  {
   "cell_type": "code",
   "execution_count": 310,
   "id": "4eb5aa2c",
   "metadata": {},
   "outputs": [],
   "source": [
    "def find_geotiff(x: int, y: int): \n",
    "    for roots, dirs, files in os.walk(\"./Data\"): \n",
    "        for file in files:\n",
    "            if file.endswith(\".tif\"):\n",
    "                with rasterio.open(file) as fd:\n",
    "                    if fd.bounds.left <= x <= fd.bounds.right:\n",
    "                        if fd.bounds.bottom <= y <= fd.bounds.top:\n",
    "                            cropped_map = fd[:, x-100:x+100, y-100:y+100]\n",
    "                            plt.imshow(cropped_map)\n",
    "\n",
    "\n",
    "#def find_geotiff(x: int, y:int): \n",
    " #   for files in os.listdir(\"./Data\"):\n",
    "  #      if files.endswith(\".tif\"):\n",
    "   #         print(\"I'm in the first IF\")\n",
    "    #        with rasterio.open(files) as fd:\n",
    "     #           if fd.bounds.left <= x <= fd.bounds.right:\n",
    "      #              print(\"I'm in the second IF\")\n",
    "       #             if fd.bounds.bottom <= y <= fd.bounds.top:\n",
    "        #                print(\"I'm in the third IF\")\n",
    "         #               #print(fd.bounds)\n",
    "          #              #cropped_map = fd[:, x-100:x+100, y-100:y+100]\n",
    "           #             return plt.imshow(fd.read(1))"
   ]
  },
  {
   "cell_type": "code",
   "execution_count": 321,
   "id": "5b286ac1",
   "metadata": {},
   "outputs": [
    {
     "data": {
      "image/png": "[encoded data removed]",
      "text/plain": [
       "<Figure size 432x288 with 1 Axes>"
      ]
     },
     "metadata": {
      "needs_background": "light"
     },
     "output_type": "display_data"
    },
    {
     "data": {
      "image/png": "[encoded data removed]",
      "text/plain": [
       "<Figure size 432x288 with 1 Axes>"
      ]
     },
     "metadata": {
      "needs_background": "light"
     },
     "output_type": "display_data"
    }
   ],
   "source": [
    "paths = Path(\"./Data\").glob('**/*.tif')\n",
    "\n",
    "x = 148222\n",
    "y = 242000\n",
    "for path in paths:\n",
    "    with rasterio.open(path) as fd:\n",
    "        if fd.bounds.left <= x <= fd.bounds.right:\n",
    "            if fd.bounds.bottom <= y <= fd.bounds.top:\n",
    "                #cropped_map = fd[:, x-100:x+100, y-100:y+100]\n",
    "                show(fd)"
   ]
  },
  {
   "cell_type": "code",
   "execution_count": 311,
   "id": "ac764f51",
   "metadata": {
    "collapsed": true
   },
   "outputs": [
    {
     "ename": "RasterioIOError",
     "evalue": "DHMVIIDSMRAS1m_k04.tif: No such file or directory",
     "output_type": "error",
     "traceback": [
      "\u001b[0;31m---------------------------------------------------------------------------\u001b[0m",
      "\u001b[0;31mCPLE_OpenFailedError\u001b[0m                      Traceback (most recent call last)",
      "\u001b[0;32mrasterio/_base.pyx\u001b[0m in \u001b[0;36mrasterio._base.DatasetBase.__init__\u001b[0;34m()\u001b[0m\n",
      "\u001b[0;32mrasterio/_shim.pyx\u001b[0m in \u001b[0;36mrasterio._shim.open_dataset\u001b[0;34m()\u001b[0m\n",
      "\u001b[0;32mrasterio/_err.pyx\u001b[0m in \u001b[0;36mrasterio._err.exc_wrap_pointer\u001b[0;34m()\u001b[0m\n",
      "\u001b[0;31mCPLE_OpenFailedError\u001b[0m: DHMVIIDSMRAS1m_k04.tif: No such file or directory",
      "\nDuring handling of the above exception, another exception occurred:\n",
      "\u001b[0;31mRasterioIOError\u001b[0m                           Traceback (most recent call last)",
      "\u001b[0;32m/var/folders/ch/wk0d_9_x76q3n77pfj4jqnkr0000gn/T/ipykernel_6825/3640458344.py\u001b[0m in \u001b[0;36m<module>\u001b[0;34m\u001b[0m\n\u001b[0;32m----> 1\u001b[0;31m \u001b[0mfind_geotiff\u001b[0m\u001b[0;34m(\u001b[0m\u001b[0;36m148222\u001b[0m\u001b[0;34m,\u001b[0m \u001b[0;36m242000\u001b[0m\u001b[0;34m)\u001b[0m\u001b[0;34m\u001b[0m\u001b[0;34m\u001b[0m\u001b[0m\n\u001b[0m",
      "\u001b[0;32m/var/folders/ch/wk0d_9_x76q3n77pfj4jqnkr0000gn/T/ipykernel_6825/2055479744.py\u001b[0m in \u001b[0;36mfind_geotiff\u001b[0;34m(x, y)\u001b[0m\n\u001b[1;32m      3\u001b[0m         \u001b[0;32mfor\u001b[0m \u001b[0mfile\u001b[0m \u001b[0;32min\u001b[0m \u001b[0mfiles\u001b[0m\u001b[0;34m:\u001b[0m\u001b[0;34m\u001b[0m\u001b[0;34m\u001b[0m\u001b[0m\n\u001b[1;32m      4\u001b[0m             \u001b[0;32mif\u001b[0m \u001b[0mfile\u001b[0m\u001b[0;34m.\u001b[0m\u001b[0mendswith\u001b[0m\u001b[0;34m(\u001b[0m\u001b[0;34m\".tif\"\u001b[0m\u001b[0;34m)\u001b[0m\u001b[0;34m:\u001b[0m\u001b[0;34m\u001b[0m\u001b[0;34m\u001b[0m\u001b[0m\n\u001b[0;32m----> 5\u001b[0;31m                 \u001b[0;32mwith\u001b[0m \u001b[0mrasterio\u001b[0m\u001b[0;34m.\u001b[0m\u001b[0mopen\u001b[0m\u001b[0;34m(\u001b[0m\u001b[0mfile\u001b[0m\u001b[0;34m)\u001b[0m \u001b[0;32mas\u001b[0m \u001b[0mfd\u001b[0m\u001b[0;34m:\u001b[0m\u001b[0;34m\u001b[0m\u001b[0;34m\u001b[0m\u001b[0m\n\u001b[0m\u001b[1;32m      6\u001b[0m                     \u001b[0mprint\u001b[0m\u001b[0;34m(\u001b[0m\u001b[0mfd\u001b[0m\u001b[0;34m.\u001b[0m\u001b[0mprofile\u001b[0m\u001b[0;34m)\u001b[0m\u001b[0;34m\u001b[0m\u001b[0;34m\u001b[0m\u001b[0m\n\u001b[1;32m      7\u001b[0m                     \u001b[0;32mif\u001b[0m \u001b[0mfd\u001b[0m\u001b[0;34m.\u001b[0m\u001b[0mbounds\u001b[0m\u001b[0;34m.\u001b[0m\u001b[0mleft\u001b[0m \u001b[0;34m<=\u001b[0m \u001b[0mx\u001b[0m \u001b[0;34m<=\u001b[0m \u001b[0mfd\u001b[0m\u001b[0;34m.\u001b[0m\u001b[0mbounds\u001b[0m\u001b[0;34m.\u001b[0m\u001b[0mright\u001b[0m\u001b[0;34m:\u001b[0m\u001b[0;34m\u001b[0m\u001b[0;34m\u001b[0m\u001b[0m\n",
      "\u001b[0;32m/opt/anaconda3/lib/python3.9/site-packages/rasterio/env.py\u001b[0m in \u001b[0;36mwrapper\u001b[0;34m(*args, **kwds)\u001b[0m\n\u001b[1;32m    435\u001b[0m \u001b[0;34m\u001b[0m\u001b[0m\n\u001b[1;32m    436\u001b[0m         \u001b[0;32mwith\u001b[0m \u001b[0menv_ctor\u001b[0m\u001b[0;34m(\u001b[0m\u001b[0msession\u001b[0m\u001b[0;34m=\u001b[0m\u001b[0msession\u001b[0m\u001b[0;34m)\u001b[0m\u001b[0;34m:\u001b[0m\u001b[0;34m\u001b[0m\u001b[0;34m\u001b[0m\u001b[0m\n\u001b[0;32m--> 437\u001b[0;31m             \u001b[0;32mreturn\u001b[0m \u001b[0mf\u001b[0m\u001b[0;34m(\u001b[0m\u001b[0;34m*\u001b[0m\u001b[0margs\u001b[0m\u001b[0;34m,\u001b[0m \u001b[0;34m**\u001b[0m\u001b[0mkwds\u001b[0m\u001b[0;34m)\u001b[0m\u001b[0;34m\u001b[0m\u001b[0;34m\u001b[0m\u001b[0m\n\u001b[0m\u001b[1;32m    438\u001b[0m \u001b[0;34m\u001b[0m\u001b[0m\n\u001b[1;32m    439\u001b[0m     \u001b[0;32mreturn\u001b[0m \u001b[0mwrapper\u001b[0m\u001b[0;34m\u001b[0m\u001b[0;34m\u001b[0m\u001b[0m\n",
      "\u001b[0;32m/opt/anaconda3/lib/python3.9/site-packages/rasterio/__init__.py\u001b[0m in \u001b[0;36mopen\u001b[0;34m(fp, mode, driver, width, height, count, crs, transform, dtype, nodata, sharing, **kwargs)\u001b[0m\n\u001b[1;32m    218\u001b[0m         \u001b[0;31m# None.\u001b[0m\u001b[0;34m\u001b[0m\u001b[0;34m\u001b[0m\u001b[0m\n\u001b[1;32m    219\u001b[0m         \u001b[0;32mif\u001b[0m \u001b[0mmode\u001b[0m \u001b[0;34m==\u001b[0m \u001b[0;34m'r'\u001b[0m\u001b[0;34m:\u001b[0m\u001b[0;34m\u001b[0m\u001b[0;34m\u001b[0m\u001b[0m\n\u001b[0;32m--> 220\u001b[0;31m             \u001b[0ms\u001b[0m \u001b[0;34m=\u001b[0m \u001b[0mDatasetReader\u001b[0m\u001b[0;34m(\u001b[0m\u001b[0mpath\u001b[0m\u001b[0;34m,\u001b[0m \u001b[0mdriver\u001b[0m\u001b[0;34m=\u001b[0m\u001b[0mdriver\u001b[0m\u001b[0;34m,\u001b[0m \u001b[0msharing\u001b[0m\u001b[0;34m=\u001b[0m\u001b[0msharing\u001b[0m\u001b[0;34m,\u001b[0m \u001b[0;34m**\u001b[0m\u001b[0mkwargs\u001b[0m\u001b[0;34m)\u001b[0m\u001b[0;34m\u001b[0m\u001b[0;34m\u001b[0m\u001b[0m\n\u001b[0m\u001b[1;32m    221\u001b[0m         \u001b[0;32melif\u001b[0m \u001b[0mmode\u001b[0m \u001b[0;34m==\u001b[0m \u001b[0;34m\"r+\"\u001b[0m\u001b[0;34m:\u001b[0m\u001b[0;34m\u001b[0m\u001b[0;34m\u001b[0m\u001b[0m\n\u001b[1;32m    222\u001b[0m             s = get_writer_for_path(path, driver=driver)(\n",
      "\u001b[0;32mrasterio/_base.pyx\u001b[0m in \u001b[0;36mrasterio._base.DatasetBase.__init__\u001b[0;34m()\u001b[0m\n",
      "\u001b[0;31mRasterioIOError\u001b[0m: DHMVIIDSMRAS1m_k04.tif: No such file or directory"
     ]
    }
   ],
   "source": [
    "find_geotiff(148222, 242000)"
   ]
  },
  {
   "cell_type": "markdown",
   "id": "4bd3668e",
   "metadata": {},
   "source": [
    "---"
   ]
  }
 ],
 "metadata": {
  "kernelspec": {
   "display_name": "Python 3 (ipykernel)",
   "language": "python",
   "name": "python3"
  },
  "language_info": {
   "codemirror_mode": {
    "name": "ipython",
    "version": 3
   },
   "file_extension": ".py",
   "mimetype": "text/x-python",
   "name": "python",
   "nbconvert_exporter": "python",
   "pygments_lexer": "ipython3",
   "version": "3.9.7"
  }
 },
 "nbformat": 4,
 "nbformat_minor": 5
}
